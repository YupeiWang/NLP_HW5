{
 "cells": [
  {
   "cell_type": "code",
   "execution_count": 99,
   "metadata": {},
   "outputs": [],
   "source": [
    "from keras.models import Model\n",
    "from keras.layers import Input, LSTM, Dense\n",
    "from keras import callbacks\n",
    "import numpy as np"
   ]
  },
  {
   "cell_type": "code",
   "execution_count": 115,
   "metadata": {},
   "outputs": [],
   "source": [
    "# 基本参数\n",
    "batch_size = 64\n",
    "epochs = 30\n",
    "latent_dim = 256 # LSTM 的单元个数\n",
    "num_samples = 1000 # 训练样本的大小"
   ]
  },
  {
   "cell_type": "code",
   "execution_count": 116,
   "metadata": {},
   "outputs": [],
   "source": [
    "input_texts = []\n",
    "target_texts = []\n",
    "input_characters = set()\n",
    "target_characters = set()\n",
    "\n",
    "import json\n",
    "data_path = './translation2019zh/translation2019zh_valid.json'\n",
    "file = open(data_path, 'r', encoding='utf-8')\n",
    "datas = []\n",
    "count = 0\n",
    "for line in file.readlines():\n",
    "    dic = json.loads(line)\n",
    "    datas.append(dic)\n",
    "\n",
    "    \n",
    "datas = datas[0:1000]\n",
    "\n",
    "#for i,data in enumerate(datas):\n",
    "#    print(data['chinese'])"
   ]
  },
  {
   "cell_type": "code",
   "execution_count": 117,
   "metadata": {},
   "outputs": [
    {
     "name": "stdout",
     "output_type": "stream",
     "text": [
      "Nunmber of samples: 999\n",
      "Number of unique input tokens: 115\n",
      "Number of unique output tokens: 2481\n",
      "Max sequence length of input: 218\n",
      "Max sequence length of outputs: 118\n"
     ]
    }
   ],
   "source": [
    "from opencc import OpenCC\n",
    "cc = OpenCC('s2t')\n",
    "for data in datas[: min(num_samples, len(datas) - 1)]:\n",
    "    # 分割输入序列和目标序列\n",
    "    input_text = data['english']\n",
    "    \n",
    "    # 用'tab'作为 一个序列的开始字符\n",
    "    # 用 '\\n' 作为 序列的结束字符\n",
    "    chineseData = cc.convert(data['chinese'])\n",
    "    target_text = '\\t'+chineseData+'\\n'\n",
    "    \n",
    "    input_texts.append(input_text)\n",
    "    target_texts.append(target_text)\n",
    "    \n",
    "    # 计算 input_text 中的 tokens\n",
    "    for char in input_text:\n",
    "        if char not in input_characters:\n",
    "            input_characters.add(char)\n",
    "    \n",
    "    # 计算 target_text 中的 tokens\n",
    "    for char in target_text:\n",
    "        if char not in target_characters:\n",
    "            target_characters.add(char)\n",
    "            \n",
    "input_characters = sorted(list(input_characters))\n",
    "target_characters = sorted(list(target_characters))\n",
    "num_encoder_tokens = len(input_characters)\n",
    "num_decoder_tokens = len(target_characters)\n",
    "max_encoder_seq_length = max([ len(txt) for txt in input_texts])\n",
    "max_decoder_seq_length = max([ len(txt) for txt in target_texts])\n",
    "\n",
    "print('Nunmber of samples:', len(input_texts))\n",
    "print('Number of unique input tokens:', num_encoder_tokens)\n",
    "print('Number of unique output tokens:', num_decoder_tokens)\n",
    "print('Max sequence length of input:', max_encoder_seq_length)\n",
    "print('Max sequence length of outputs:', max_decoder_seq_length)"
   ]
  },
  {
   "cell_type": "code",
   "execution_count": 118,
   "metadata": {},
   "outputs": [],
   "source": [
    "# 建立 字符->数字 字典，用于字符的向量化\n",
    "input_token_index = dict( [(char, i)for i, char in enumerate(input_characters)] )\n",
    "target_token_index = dict( [(char, i) for i, char in enumerate(target_characters)] )"
   ]
  },
  {
   "cell_type": "code",
   "execution_count": 119,
   "metadata": {},
   "outputs": [],
   "source": [
    "# 创建数组 \n",
    "encoder_input_data = np.zeros((len(input_texts), max_encoder_seq_length, num_encoder_tokens), dtype='float32')\n",
    "decoder_input_data = np.zeros((len(input_texts), max_decoder_seq_length, num_decoder_tokens), dtype='float32')\n",
    "decoder_target_data = np.zeros((len(input_texts), max_decoder_seq_length, num_decoder_tokens), dtype='float32')\n",
    "\n",
    "# 填充数据, 对每一个字符做one-hot\n",
    "for i, (input_text, target_text) in enumerate(zip(input_texts, target_texts)):\n",
    "    # 对编码器的输入序列做one-hot\n",
    "    for t, char in enumerate(input_text):\n",
    "        encoder_input_data[i, t, input_token_index[char]] = 1.0\n",
    "    \n",
    "    # 对解码器的输入与输出做序列做one-hot\n",
    "    for t, char in enumerate(target_text):\n",
    "        decoder_input_data[i, t, target_token_index[char]] = 1.0\n",
    "        \n",
    "        if t > 0:\n",
    "            # decoder_target_data 不包含开始字符，并且比decoder_input_data提前一步\n",
    "            decoder_target_data[i, t-1, target_token_index[char]] = 1.0"
   ]
  },
  {
   "cell_type": "code",
   "execution_count": 120,
   "metadata": {},
   "outputs": [],
   "source": [
    "# 定义编码器的输入\n",
    "# encoder_inputs (None, num_encoder_tokens), None表示可以处理任意长度的序列\n",
    "encoder_inputs = Input(shape=(None, num_encoder_tokens))\n",
    "\n",
    "# 编码器，要求其返回状态\n",
    "encoder = LSTM(latent_dim, return_state=True)\n",
    "\n",
    "# 调用编码器，得到编码器的输出（输入其实不需要），以及状态信息 state_h 和 state_c\n",
    "encoder_outpus, state_h, state_c = encoder(encoder_inputs)\n",
    "\n",
    "# 丢弃encoder_outputs, 我们只需要编码器的状态\n",
    "encoder_state = [state_h, state_c]"
   ]
  },
  {
   "cell_type": "markdown",
   "metadata": {},
   "source": [
    "### 解碼器 "
   ]
  },
  {
   "cell_type": "code",
   "execution_count": 121,
   "metadata": {},
   "outputs": [],
   "source": [
    "# 定义解码器的输入\n",
    "# 同样的，None表示可以处理任意长度的序列\n",
    "decoder_inputs = Input(shape=(None, num_decoder_tokens))\n",
    "\n",
    "# 接下来建立解码器，解码器将返回整个输出序列\n",
    "# 并且返回其中间状态，中间状态在训练阶段不会用到，但是在推理阶段将是有用的\n",
    "decoder_lstm = LSTM(latent_dim, return_sequences=True, return_state=True)\n",
    "\n",
    "# 将编码器输出的状态作为初始解码器的初始状态\n",
    "decoder_outputs, _, _ = decoder_lstm(decoder_inputs, initial_state=encoder_state)\n",
    "\n",
    "# 添加全连接层\n",
    "decoder_dense = Dense(num_decoder_tokens, activation='softmax')\n",
    "decoder_outputs = decoder_dense(decoder_outputs)"
   ]
  },
  {
   "cell_type": "markdown",
   "metadata": {},
   "source": [
    "### 訓練模型 "
   ]
  },
  {
   "cell_type": "code",
   "execution_count": 122,
   "metadata": {},
   "outputs": [
    {
     "name": "stdout",
     "output_type": "stream",
     "text": [
      "Epoch 1/30\n",
      "15/15 [==============================] - 53s 3s/step - loss: 2.2983 - val_loss: 2.2242\n",
      "Epoch 2/30\n",
      "15/15 [==============================] - 48s 3s/step - loss: 2.1077 - val_loss: 2.2126\n",
      "Epoch 3/30\n",
      "15/15 [==============================] - 47s 3s/step - loss: 2.1487 - val_loss: 2.2084\n",
      "Epoch 4/30\n",
      "15/15 [==============================] - 50s 3s/step - loss: 2.0953 - val_loss: 2.2063\n",
      "Epoch 5/30\n",
      "15/15 [==============================] - 45s 3s/step - loss: 2.1256 - val_loss: 2.2030\n",
      "Epoch 6/30\n",
      "15/15 [==============================] - 45s 3s/step - loss: 2.1092 - val_loss: 2.1998\n",
      "Epoch 7/30\n",
      "15/15 [==============================] - 46s 3s/step - loss: 2.1063 - val_loss: 2.2058\n",
      "Epoch 8/30\n",
      "15/15 [==============================] - 44s 3s/step - loss: 2.1026 - val_loss: 2.1992\n",
      "Epoch 9/30\n",
      "15/15 [==============================] - 42s 3s/step - loss: 2.0770 - val_loss: 2.2076\n",
      "Epoch 10/30\n",
      "15/15 [==============================] - 42s 3s/step - loss: 2.1027 - val_loss: 2.2030\n",
      "Epoch 11/30\n",
      "15/15 [==============================] - 42s 3s/step - loss: 2.0875 - val_loss: 2.2036\n",
      "Epoch 12/30\n",
      "15/15 [==============================] - 43s 3s/step - loss: 2.0927 - val_loss: 2.2053\n",
      "Epoch 13/30\n",
      "15/15 [==============================] - 43s 3s/step - loss: 2.0950 - val_loss: 2.2029\n",
      "Epoch 14/30\n",
      "15/15 [==============================] - 50s 3s/step - loss: 2.0787 - val_loss: 2.2082\n",
      "Epoch 15/30\n",
      "15/15 [==============================] - 46s 3s/step - loss: 2.1036 - val_loss: 2.2076\n",
      "Epoch 16/30\n",
      "15/15 [==============================] - 43s 3s/step - loss: 2.1132 - val_loss: 2.2095\n",
      "Epoch 17/30\n",
      "15/15 [==============================] - 46s 3s/step - loss: 2.0904 - val_loss: 2.2097\n",
      "Epoch 18/30\n",
      "15/15 [==============================] - 44s 3s/step - loss: 2.0614 - val_loss: 2.2109\n",
      "Epoch 19/30\n",
      "15/15 [==============================] - 41s 3s/step - loss: 2.1089 - val_loss: 2.2114\n",
      "Epoch 20/30\n",
      "15/15 [==============================] - 47s 3s/step - loss: 2.0710 - val_loss: 2.2115\n",
      "Epoch 21/30\n",
      "15/15 [==============================] - 44s 3s/step - loss: 2.0787 - val_loss: 2.2136\n",
      "Epoch 22/30\n",
      "15/15 [==============================] - 44s 3s/step - loss: 2.0309 - val_loss: 2.2130\n",
      "Epoch 23/30\n",
      "15/15 [==============================] - 46s 3s/step - loss: 2.1058 - val_loss: 2.2141\n",
      "Epoch 24/30\n",
      "15/15 [==============================] - 45s 3s/step - loss: 2.0785 - val_loss: 2.2157\n",
      "Epoch 25/30\n",
      "15/15 [==============================] - 45s 3s/step - loss: 2.1110 - val_loss: 2.2094\n",
      "Epoch 26/30\n",
      "15/15 [==============================] - 44s 3s/step - loss: 2.0641 - val_loss: 2.2131\n",
      "Epoch 27/30\n",
      "15/15 [==============================] - 42s 3s/step - loss: 2.1108 - val_loss: 2.2106\n",
      "Epoch 28/30\n",
      "15/15 [==============================] - 41s 3s/step - loss: 2.0474 - val_loss: 2.2145\n",
      "Epoch 29/30\n",
      "15/15 [==============================] - 40s 3s/step - loss: 2.0638 - val_loss: 2.2189\n",
      "Epoch 30/30\n",
      "15/15 [==============================] - 39s 3s/step - loss: 2.0825 - val_loss: 2.2223\n"
     ]
    }
   ],
   "source": [
    "# 定义整个模型\n",
    "model = Model([encoder_inputs, decoder_inputs], decoder_outputs)\n",
    "\n",
    "# 定义回调函数\n",
    "#callback_list = [callbacks.EarlyStopping(patience=10)]\n",
    "# 编译模型\n",
    "model.compile(optimizer='rmsprop', loss='categorical_crossentropy')\n",
    "\n",
    "# 训练\n",
    "model.fit([encoder_input_data, decoder_input_data], decoder_target_data,\n",
    "          batch_size=batch_size,\n",
    "          epochs = epochs,\n",
    "          validation_split=0.1)\n",
    "\n",
    "# 保存模型\n",
    "model.save('s2s_2.h5')"
   ]
  },
  {
   "cell_type": "markdown",
   "metadata": {},
   "source": [
    "### 建立推斷模型 "
   ]
  },
  {
   "cell_type": "code",
   "execution_count": 123,
   "metadata": {},
   "outputs": [],
   "source": [
    "# 定义 sampling 模型\n",
    "# 定义 encoder 模型，得到输出encoder_states\n",
    "encoder_model = Model(encoder_inputs, encoder_state)\n",
    "\n",
    "decoder_state_input_h = Input(shape=(latent_dim,))\n",
    "decoder_state_input_c = Input(shape=(latent_dim,))\n",
    "decoder_states_inputs = [decoder_state_input_h, decoder_state_input_c]\n",
    "\n",
    "# 得到解码器的输出以及中间状态\n",
    "decoder_outputs, state_h, state_c = decoder_lstm(decoder_inputs, initial_state=decoder_states_inputs)\n",
    "decoder_states = [state_h, state_c]\n",
    "decoder_outputs = decoder_dense(decoder_outputs)\n",
    "\n",
    "decoder_model = Model([decoder_inputs] + decoder_states_inputs, [decoder_outputs]+decoder_states)"
   ]
  },
  {
   "cell_type": "code",
   "execution_count": 124,
   "metadata": {},
   "outputs": [],
   "source": [
    "# 建立 数字->字符 的字典，用于恢复\n",
    "reverse_input_char_index = dict([(i, char) for char, i in input_token_index.items()])\n",
    "reverse_target_char_index = dict([(i, char) for char, i in target_token_index.items()])"
   ]
  },
  {
   "cell_type": "code",
   "execution_count": 125,
   "metadata": {},
   "outputs": [],
   "source": [
    "def decode_sequence(input_seq):\n",
    "    # 将输入序列进行编码\n",
    "    states_value = encoder_model.predict(input_seq)\n",
    "    \n",
    "    # 生成一个size=1的空序列\n",
    "    target_seq = np.zeros((1, 1, num_decoder_tokens))\n",
    "    # 将这个空序列的内容设置为开始字符\n",
    "    target_seq[0, 0, target_token_index['\\t']] = 1.\n",
    "    \n",
    "    # 进行字符恢复\n",
    "    # 简单起见，假设batch_size = 1\n",
    "    stop_condition = False\n",
    "    decoded_sentence = ''\n",
    "    \n",
    "    while not stop_condition:\n",
    "        output_tokens, h, c = decoder_model.predict([target_seq] + states_value)\n",
    "        \n",
    "        # sample a token\n",
    "        sampled_token_index = np.argmax(output_tokens[0, -1, :])\n",
    "        sampled_char = reverse_target_char_index[sampled_token_index]\n",
    "        decoded_sentence += sampled_char\n",
    "        \n",
    "        # 退出条件：生成 \\n 或者 超过最大序列长度\n",
    "        if sampled_char == '\\n' or len(decoded_sentence) > max_decoder_seq_length :\n",
    "            stop_condition = True\n",
    "            \n",
    "        # 更新target_seq\n",
    "        target_seq = np.zeros((1, 1, num_decoder_tokens))\n",
    "        target_seq[0, 0, sampled_token_index] = 1.\n",
    "        \n",
    "        # 更新中间状态\n",
    "        states_value = [h, c]\n",
    "        \n",
    "    return decoded_sentence"
   ]
  },
  {
   "cell_type": "code",
   "execution_count": 126,
   "metadata": {},
   "outputs": [
    {
     "name": "stdout",
     "output_type": "stream",
     "text": [
      "-\n",
      "Input sentence: Slowly and not without struggle, America began to listen.\n",
      "Decoded sentence: 在在，，，，，，，，，，，，，，，，，，，，，，，，，，，，，，，，，，，，，，，，，，，，，，，，，，，，，，，，，，，，，，，，，，，，，，，，，，，，，，，，，，，，，，，，，，，，，，，，，，，，，，，，，，，，，，，，，，，，，\n",
      "-\n",
      "Input sentence: I didn't own a Thesaurus until four years ago and I use a small Webster's dictionary that I'd bought at K-Mart for 89 cents.\n",
      "Decoded sentence: 在在，，，，，，，，，，，，，，，，，，，，，，，，，，，，，，，，，，，，，，，，，，，，，，，，，，，，，，，，，，，，，，，，，，，，，，，，，，，，，，，，，，，，，，，，，，，，，，，，，，，，，，，，，，，，，，，，，，，，，\n",
      "-\n",
      "Input sentence: portlet, you must write three short deployment descriptors: web.xml, portlet.xml, and geronimo-web.xml. (Some of these may have been generated by your IDE.)\n",
      "Decoded sentence: 在在，，，，，，，，，，，，，，，，，，，，，，，，，，，，，，，，，，，，，，，，，，，，，，，，，，，，，，，，，，，，，，，，，，，，，，，，，，，，，，，，，，，，，，，，，，，，，，，，，，，，，，，，，，，，，，，，，，，，，\n"
     ]
    }
   ],
   "source": [
    "# 检验成果的时候到了,从训练集中选取一些句子做测试\n",
    "# 效果还行（废话，从训练集里挑的数据）\n",
    "for seq_index in range(0, 3):\n",
    "    # batch_size = 1\n",
    "    input_seq = encoder_input_data[seq_index:seq_index+1]\n",
    "    #input_seq = decoder_target_data[seq_index:seq_index+1]\n",
    "    decoded_sentence = decode_sequence(input_seq)\n",
    "    \n",
    "    print('-')\n",
    "    print('Input sentence:', input_texts[seq_index])\n",
    "    print('Decoded sentence:', decoded_sentence)"
   ]
  }
 ],
 "metadata": {
  "kernelspec": {
   "display_name": "Python 3",
   "language": "python",
   "name": "python3"
  },
  "language_info": {
   "codemirror_mode": {
    "name": "ipython",
    "version": 3
   },
   "file_extension": ".py",
   "mimetype": "text/x-python",
   "name": "python",
   "nbconvert_exporter": "python",
   "pygments_lexer": "ipython3",
   "version": "3.8.5"
  }
 },
 "nbformat": 4,
 "nbformat_minor": 4
}
